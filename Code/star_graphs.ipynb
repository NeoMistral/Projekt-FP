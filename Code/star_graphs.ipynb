{
 "cells": [
  {
   "cell_type": "markdown",
   "metadata": {},
   "source": [
    "### Preverjanje hipoteze zvezdnih grafov - lahko tudi z funkcijo "
   ]
  },
  {
   "cell_type": "code",
   "execution_count": 1,
   "metadata": {},
   "outputs": [],
   "source": [
    "from itertools import combinations\n",
    "# sigma total irr, our f(s)\n",
    "def sigma_irr(G):\n",
    "    return sum((u - v) ** 2 for u, v in combinations(G.degree(), 2))"
   ]
  },
  {
   "cell_type": "code",
   "execution_count": 2,
   "metadata": {},
   "outputs": [],
   "source": [
    "# generate star graph with or order n and c central vertices\n",
    "def generate_star_graph(n, c):\n",
    "    graph = {} # dict. of neighbours\n",
    "    i = 0\n",
    "    for k in range(n): \n",
    "        i += 1\n",
    "        if i <= c: # if vertex is central, set outer vertices as neighbors\n",
    "            graph[k] = list(range(c, n))\n",
    "        else: # else vertex is outer, set central vertices as neighbors\n",
    "            graph[k] = list(range(c))\n",
    "    \n",
    "    return Graph(graph) # generate and return star graph"
   ]
  },
  {
   "cell_type": "markdown",
   "metadata": {},
   "source": [
    "### Generiranje grafov"
   ]
  },
  {
   "cell_type": "code",
   "execution_count": 10,
   "metadata": {},
   "outputs": [
    {
     "data": {
      "text/plain": [
       "{4: 1,\n",
       " 5: 1,\n",
       " 6: 1,\n",
       " 7: 1,\n",
       " 8: 1,\n",
       " 9: 1,\n",
       " 10: 1,\n",
       " 11: 2,\n",
       " 12: 2,\n",
       " 13: 2,\n",
       " 14: 2,\n",
       " 15: 2,\n",
       " 16: 2,\n",
       " 17: 3,\n",
       " 18: 3,\n",
       " 19: 3}"
      ]
     },
     "execution_count": 10,
     "metadata": {},
     "output_type": "execute_result"
    }
   ],
   "source": [
    "# keep count of central vertices in solution\n",
    "num_of_central = {} # {n:c}\n",
    "\n",
    "# for all n in range we find star graph with highest sigma value (n is the order of graph)\n",
    "for n in range(3, 20):\n",
    "\n",
    "    max_sigma = 0 # current max sigma value\n",
    "    graphs_with_max_sigma = [] # list of graphs with max sigma value\n",
    "    \n",
    "    # check for number of central nodes between 1 and floor(n/2) (above that its symmetrical)\n",
    "    for c in range(1, int(n/2)):\n",
    "        G = generate_star_graph(n, c) # generate star graph\n",
    "        sigma = sigma_irr(G) # calculate its sigma value\n",
    "\n",
    "        if sigma > max_sigma:  # update if its the best\n",
    "            graphs_with_max_sigma = [G]\n",
    "            max_sigma = sigma\n",
    "            num_of_central[n] = c \n",
    "        \n",
    "        elif sigma == max_sigma: # if equal, just append\n",
    "            graphs_with_max_sigma.append(G)\n",
    "        \n",
    "    print(f\"Vozlišč: {n}\") # print number of vertices\n",
    "    for G in graphs_with_max_sigma: # show all graphs with max sigma value\n",
    "        G.show(title=f\"Vozlisc: {n}, sigma: {max_sigma}\")\n",
    "\n",
    "num_of_central # show number of central vertices per number of all vertices - for graph in report"
   ]
  }
 ],
 "metadata": {
  "kernelspec": {
   "display_name": "SageMath 10.4",
   "language": "sage",
   "name": "sagemath"
  },
  "language_info": {
   "codemirror_mode": {
    "name": "ipython",
    "version": 3
   },
   "file_extension": ".py",
   "mimetype": "text/x-python",
   "name": "python",
   "nbconvert_exporter": "python",
   "pygments_lexer": "ipython3",
   "version": "3.9.18"
  }
 },
 "nbformat": 4,
 "nbformat_minor": 2
}
